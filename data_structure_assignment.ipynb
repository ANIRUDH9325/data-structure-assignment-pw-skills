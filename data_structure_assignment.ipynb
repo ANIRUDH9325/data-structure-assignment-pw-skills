{
  "nbformat": 4,
  "nbformat_minor": 0,
  "metadata": {
    "colab": {
      "provenance": [],
      "authorship_tag": "ABX9TyPXONb5KTq/38Qn2VX2Xpi5",
      "include_colab_link": true
    },
    "kernelspec": {
      "name": "python3",
      "display_name": "Python 3"
    },
    "language_info": {
      "name": "python"
    }
  },
  "cells": [
    {
      "cell_type": "markdown",
      "metadata": {
        "id": "view-in-github",
        "colab_type": "text"
      },
      "source": [
        "<a href=\"https://colab.research.google.com/github/ANIRUDH9325/data-structure-assignment-pw-skills/blob/main/data_structure_assignment.ipynb\" target=\"_parent\"><img src=\"https://colab.research.google.com/assets/colab-badge.svg\" alt=\"Open In Colab\"/></a>"
      ]
    },
    {
      "cell_type": "code",
      "execution_count": 3,
      "metadata": {
        "colab": {
          "base_uri": "https://localhost:8080/",
          "height": 0
        },
        "id": "O6mdYtHiuf-w",
        "outputId": "5eeab748-6476-4f24-f952-24b700a83dc6"
      },
      "outputs": [
        {
          "output_type": "stream",
          "name": "stdout",
          "text": [
            "hello\n",
            "orld\n"
          ]
        }
      ],
      "source": [
        "#1)discuss string slicing and provide example\n",
        "#ANSWER- string slicing is a powerful feature in python that allows you to extract a porti\n",
        "#of string by specifying a range of indices the basic syntax for slicing\n",
        "#EXAMPLES OF STRING SLICING\n",
        "text=\"hello world\"\n",
        "print(text[0:5])\n",
        "print(text[7:12])# here i understood using the following syntax we can slice the string according to our uses"
      ]
    },
    {
      "cell_type": "code",
      "source": [
        "#2)EXPLAIN KEY FEATURES OF LIST IN PYTHON.\n",
        "#ANSWER- list in python are versatile and powerful data structure that allow you to store collections of items here are some key feature of lists\n",
        "#list maintain the order  of elements as they were added you can acess elements using their index\n",
        "#list are mutable meaning you can change their content after creation\n",
        "#list can grow and shrink in size you can add or remove elements as nedded\n",
        "#list can contain elements of different data types including integers strings and even other lists"
      ],
      "metadata": {
        "id": "rTus48ZRv_hH"
      },
      "execution_count": 4,
      "outputs": []
    },
    {
      "cell_type": "code",
      "source": [
        "#3)describe how to acess modify and delete elements in a list with examples\\\n",
        "#acessing elements:you can acess elements in a list using their index python uses zero based indexing\n",
        "#so thr first\n",
        "#example\n",
        "my_list=['apple','banana','orange','grapes']\n",
        "#acessing elements here\n",
        "print(my_list[0])\n",
        "print(my_list[2])\n",
        "#acessing last element\n",
        "print(my_list[-1])"
      ],
      "metadata": {
        "colab": {
          "base_uri": "https://localhost:8080/",
          "height": 0
        },
        "id": "0x2UyP8v3ACt",
        "outputId": "97ef7299-f05b-4a18-f407-c32f0991a5bd"
      },
      "execution_count": 1,
      "outputs": [
        {
          "output_type": "stream",
          "name": "stdout",
          "text": [
            "apple\n",
            "orange\n",
            "grapes\n"
          ]
        }
      ]
    },
    {
      "cell_type": "code",
      "source": [
        "#modifying element\n",
        "my_list=['apple','banana','orange','grapes']\n",
        "my_list[1]='mango'\n",
        "print(my_list)"
      ],
      "metadata": {
        "colab": {
          "base_uri": "https://localhost:8080/",
          "height": 0
        },
        "id": "lRT0W_ofHKnf",
        "outputId": "5e8384cf-1df3-48f4-d510-5cdb0e11b6b9"
      },
      "execution_count": 2,
      "outputs": [
        {
          "output_type": "stream",
          "name": "stdout",
          "text": [
            "['apple', 'mango', 'orange', 'grapes']\n"
          ]
        }
      ]
    },
    {
      "cell_type": "code",
      "source": [
        "#deleting element\n",
        "my_list=['apple','banana','orange','grapes']\n",
        "del my_list[2]\n",
        "print(my_list)"
      ],
      "metadata": {
        "colab": {
          "base_uri": "https://localhost:8080/",
          "height": 0
        },
        "id": "2mp07Z46HXFp",
        "outputId": "128fa433-748f-4b14-f05c-76b756e1fbd6"
      },
      "execution_count": 3,
      "outputs": [
        {
          "output_type": "stream",
          "name": "stdout",
          "text": [
            "['apple', 'banana', 'grapes']\n"
          ]
        }
      ]
    },
    {
      "cell_type": "code",
      "source": [
        "#4)COMPARE AND CONTRAST TUPLES AND LISTS WITH EXAMPLES\n",
        "#ANSWER-tuples and lists are both built in data structure in python that can store collection of items   however they have distinct characterictics and use cases here a comparison\n",
        "#1)MUTABILITY- LISTS:mutable meaning you can modify their content\n",
        "#tuples:immutable meaning once a tuple is created its contents cannot be changed\n",
        "#examples,#list\n",
        "my_list=[1,2,3]\n",
        "my_list[1]=0# modifying an element\n",
        "print(my_list)\n",
        "#tuples\n",
        "my_tuple=(1,2,3)# this code will raise an error\n",
        "my_tuple[1]=0"
      ],
      "metadata": {
        "colab": {
          "base_uri": "https://localhost:8080/",
          "height": 193
        },
        "id": "vs0yLLJ8HcLv",
        "outputId": "523e536a-2150-4c0a-fb0d-54ea6e1c5607"
      },
      "execution_count": 4,
      "outputs": [
        {
          "output_type": "stream",
          "name": "stdout",
          "text": [
            "[1, 0, 3]\n"
          ]
        },
        {
          "output_type": "error",
          "ename": "TypeError",
          "evalue": "'tuple' object does not support item assignment",
          "traceback": [
            "\u001b[0;31m---------------------------------------------------------------------------\u001b[0m",
            "\u001b[0;31mTypeError\u001b[0m                                 Traceback (most recent call last)",
            "\u001b[0;32m<ipython-input-4-f4a1aec4c209>\u001b[0m in \u001b[0;36m<cell line: 11>\u001b[0;34m()\u001b[0m\n\u001b[1;32m      9\u001b[0m \u001b[0;31m#tuples\u001b[0m\u001b[0;34m\u001b[0m\u001b[0;34m\u001b[0m\u001b[0m\n\u001b[1;32m     10\u001b[0m \u001b[0mmy_tuple\u001b[0m\u001b[0;34m=\u001b[0m\u001b[0;34m(\u001b[0m\u001b[0;36m1\u001b[0m\u001b[0;34m,\u001b[0m\u001b[0;36m2\u001b[0m\u001b[0;34m,\u001b[0m\u001b[0;36m3\u001b[0m\u001b[0;34m)\u001b[0m\u001b[0;34m\u001b[0m\u001b[0;34m\u001b[0m\u001b[0m\n\u001b[0;32m---> 11\u001b[0;31m \u001b[0mmy_tuple\u001b[0m\u001b[0;34m[\u001b[0m\u001b[0;36m1\u001b[0m\u001b[0;34m]\u001b[0m\u001b[0;34m=\u001b[0m\u001b[0;36m0\u001b[0m\u001b[0;34m\u001b[0m\u001b[0;34m\u001b[0m\u001b[0m\n\u001b[0m",
            "\u001b[0;31mTypeError\u001b[0m: 'tuple' object does not support item assignment"
          ]
        }
      ]
    },
    {
      "cell_type": "code",
      "source": [
        "#syntax LIST:defined using square brackets []\n",
        "#tuples: define using parentheses()\n",
        "#example\n",
        "my_list=[1,2,3]\n",
        "my_tuple=(1,2,3)"
      ],
      "metadata": {
        "id": "m05ugC5GKR1v"
      },
      "execution_count": 5,
      "outputs": []
    },
    {
      "cell_type": "code",
      "source": [
        "#performance\n",
        "#list:generally have higher memory overhead due to their mutability\n",
        "#tuples:more memory efficient and can be faster for iteration since they are immutable"
      ],
      "metadata": {
        "id": "NwO7bAFWKxl0"
      },
      "execution_count": 6,
      "outputs": []
    },
    {
      "cell_type": "code",
      "source": [
        "#5)DESCRIBE KEY FEATURES OF SETS AND PROVIDE EXAMPLE OF THEIR USE\n",
        "#ANSWER- sets are a built in data structure in python that store unordered collections of unique elements they have several key features\n",
        "#sets do not maintain any particular order\n",
        "#the elements in sets cannot be indexed or sliced\n",
        "#sets automatically eleminates duplicate entries if you add duplicate items\n",
        "#sets are mutable\n",
        "#because sets are unordered you cannot acess elements using indices you can check\n"
      ],
      "metadata": {
        "id": "gYoyagEmNrgP"
      },
      "execution_count": 7,
      "outputs": []
    },
    {
      "cell_type": "code",
      "source": [
        "#USED CASES OF SETS\n",
        "#removing duplicate elemrnt\n",
        "my_list=[1,2,2,3,4,4,5]\n",
        "unique_set=set(my_list)\n",
        "print(unique_set)"
      ],
      "metadata": {
        "colab": {
          "base_uri": "https://localhost:8080/",
          "height": 0
        },
        "id": "1FwDFOVTPnSH",
        "outputId": "32614095-3bb3-4914-f4b8-4b1f598006bb"
      },
      "execution_count": 8,
      "outputs": [
        {
          "output_type": "stream",
          "name": "stdout",
          "text": [
            "{1, 2, 3, 4, 5}\n"
          ]
        }
      ]
    },
    {
      "cell_type": "code",
      "source": [
        "my_set={1,2,3}\n",
        "my_set.add(4)\n",
        "print(my_set)"
      ],
      "metadata": {
        "colab": {
          "base_uri": "https://localhost:8080/",
          "height": 0
        },
        "id": "O2P-1135Pxn0",
        "outputId": "5617a966-cb98-4fcb-8fa3-df6e8bf783db"
      },
      "execution_count": 9,
      "outputs": [
        {
          "output_type": "stream",
          "name": "stdout",
          "text": [
            "{1, 2, 3, 4}\n"
          ]
        }
      ]
    },
    {
      "cell_type": "code",
      "source": [
        "set={1,2,3}\n",
        "set2={3,4,5}\n",
        "union_set=set.union(set2)\n",
        "print(union_set)"
      ],
      "metadata": {
        "colab": {
          "base_uri": "https://localhost:8080/",
          "height": 0
        },
        "id": "6cxREMoHP2lW",
        "outputId": "64658978-2683-4362-fd97-3c346a94fbfd"
      },
      "execution_count": 10,
      "outputs": [
        {
          "output_type": "stream",
          "name": "stdout",
          "text": [
            "{1, 2, 3, 4, 5}\n"
          ]
        }
      ]
    },
    {
      "cell_type": "code",
      "source": [
        "#6)DISCUSS THE USED CASES OF TUPLES AND SETS IN PYTHON PROGRAMMING\n",
        "#ANSWER-uses cases of tuples\n",
        "location_data={\n",
        "    (40.7128,-74.0060):'new york city',\n",
        "    (34.0522,118.2437):'los angeles'\n",
        "}"
      ],
      "metadata": {
        "id": "sCsXNiZiQAVT"
      },
      "execution_count": 11,
      "outputs": []
    },
    {
      "cell_type": "code",
      "source": [
        "employee=(\"john doe\",25,\"mumbai\")"
      ],
      "metadata": {
        "id": "5s8XIq69R51D"
      },
      "execution_count": 12,
      "outputs": []
    },
    {
      "cell_type": "code",
      "source": [
        "values=(1,2,3,4,5,6,7,8,9,10)\n",
        "evens=tuple(filter(lambda x:x%2==0,values))\n",
        "print(evens"
      ],
      "metadata": {
        "colab": {
          "base_uri": "https://localhost:8080/",
          "height": 106
        },
        "id": "yGn-7olsSAbV",
        "outputId": "237a9278-bc46-4596-a598-769b4f5f435e"
      },
      "execution_count": 13,
      "outputs": [
        {
          "output_type": "error",
          "ename": "SyntaxError",
          "evalue": "incomplete input (<ipython-input-13-f8958738beb6>, line 3)",
          "traceback": [
            "\u001b[0;36m  File \u001b[0;32m\"<ipython-input-13-f8958738beb6>\"\u001b[0;36m, line \u001b[0;32m3\u001b[0m\n\u001b[0;31m    print(evens\u001b[0m\n\u001b[0m               ^\u001b[0m\n\u001b[0;31mSyntaxError\u001b[0m\u001b[0;31m:\u001b[0m incomplete input\n"
          ]
        }
      ]
    },
    {
      "cell_type": "code",
      "source": [
        "#used cases of sets\n",
        "my_set={1,2,3}\n",
        "if 3 in my_set:\n",
        "    print(\"3 is in the set\")\n"
      ],
      "metadata": {
        "colab": {
          "base_uri": "https://localhost:8080/",
          "height": 0
        },
        "id": "CSduxK7eSF40",
        "outputId": "83f866e6-b6b3-4331-c8f7-c05d864ff6a3"
      },
      "execution_count": 17,
      "outputs": [
        {
          "output_type": "stream",
          "name": "stdout",
          "text": [
            "3 is in the set\n"
          ]
        }
      ]
    },
    {
      "cell_type": "code",
      "source": [
        "dataset_a={1,2,3,4,5}\n",
        "dataset_b={4,5,6,7,8}\n",
        "all_unique=dataset_a|dataset_b\n",
        "print(all_unique)"
      ],
      "metadata": {
        "colab": {
          "base_uri": "https://localhost:8080/",
          "height": 0
        },
        "id": "EI5mGki6SRfO",
        "outputId": "bf7d795a-6004-4ac7-ce48-0914e6a0a25b"
      },
      "execution_count": 18,
      "outputs": [
        {
          "output_type": "stream",
          "name": "stdout",
          "text": [
            "{1, 2, 3, 4, 5, 6, 7, 8}\n"
          ]
        }
      ]
    },
    {
      "cell_type": "code",
      "source": [
        "#7)DESCRIBE HOW TO ADD ,MODIFY,AND DELETE ITEM IN DICTIONARY WITH EXAMPLE\n",
        "#ANSWER- adding items example\n",
        "#you can add a new key value pair to dictionary by simply assigning a value to new ksy\n",
        "my_dict={'name':'alice','age':25}\n",
        "my_dict['city']='new york'\n",
        "print(my_dict)"
      ],
      "metadata": {
        "colab": {
          "base_uri": "https://localhost:8080/",
          "height": 0
        },
        "id": "BHn2gI19TGM2",
        "outputId": "5c566adf-f90e-4b59-8c64-5261f8c23132"
      },
      "execution_count": 19,
      "outputs": [
        {
          "output_type": "stream",
          "name": "stdout",
          "text": [
            "{'name': 'alice', 'age': 25, 'city': 'new york'}\n"
          ]
        }
      ]
    },
    {
      "cell_type": "code",
      "source": [
        "#modifying items\n",
        "#to modify an existing value you can assign an new value to existing one\n",
        "my_dict['age']=31\n",
        "print(my_dict)"
      ],
      "metadata": {
        "colab": {
          "base_uri": "https://localhost:8080/",
          "height": 0
        },
        "id": "PUSjH1rOWIWn",
        "outputId": "c5d8bdd0-c5cd-41ee-9584-d36b8fe28187"
      },
      "execution_count": 21,
      "outputs": [
        {
          "output_type": "stream",
          "name": "stdout",
          "text": [
            "{'name': 'alice', 'age': 31, 'city': 'new york'}\n"
          ]
        }
      ]
    },
    {
      "cell_type": "code",
      "source": [
        "#deleting items\n",
        "del my_dict['city']\n",
        "print(my_dict)"
      ],
      "metadata": {
        "colab": {
          "base_uri": "https://localhost:8080/",
          "height": 0
        },
        "id": "vMcxG1DiWbZG",
        "outputId": "ff4c5759-315a-43a9-aeff-c49a7e12eea9"
      },
      "execution_count": 22,
      "outputs": [
        {
          "output_type": "stream",
          "name": "stdout",
          "text": [
            "{'name': 'alice', 'age': 31}\n"
          ]
        }
      ]
    },
    {
      "cell_type": "code",
      "source": [
        "#DISCUSS THE IMPORTANCE OF DICTIONARY KEYS BEING IMMUTABLE AND PROVIDE EXAMPLES\n",
        "#ANSWER-in pyhon dictionary krys must br immutable meaning they cannot change after being created\n",
        "#this immutability is crucial for several reasons\n",
        "#the requirements for dictionary keys to be immutable ensures the integrity efficiency and predictability\n",
        "#of the dictionary operations using immutable types like strings numbers tuples as keys allows python to manage dictionaries effectively\n"
      ],
      "metadata": {
        "id": "K4Owww4wWqLh"
      },
      "execution_count": 23,
      "outputs": []
    },
    {
      "cell_type": "code",
      "source": [
        "#examples\n",
        "my_dict={'name':'alice','age':25}\n",
        "print(my_dict['name'])"
      ],
      "metadata": {
        "colab": {
          "base_uri": "https://localhost:8080/",
          "height": 0
        },
        "id": "cVMy4rV7io_q",
        "outputId": "a8afcc76-d64e-4036-d1ad-a62d96c9b731"
      },
      "execution_count": 24,
      "outputs": [
        {
          "output_type": "stream",
          "name": "stdout",
          "text": [
            "alice\n"
          ]
        }
      ]
    },
    {
      "cell_type": "code",
      "source": [
        "my_dict={(1,2):'value1',(3,4):'value2'}\n",
        "print(my_dict[(1,2)])"
      ],
      "metadata": {
        "colab": {
          "base_uri": "https://localhost:8080/",
          "height": 0
        },
        "id": "o5tDidbVi4cM",
        "outputId": "a2fcb9e3-c4d1-481a-a1be-01243baff44e"
      },
      "execution_count": 25,
      "outputs": [
        {
          "output_type": "stream",
          "name": "stdout",
          "text": [
            "value1\n"
          ]
        }
      ]
    },
    {
      "cell_type": "code",
      "source": [
        "my_dict={{'key':'value'}:'dict'}#this will rase atype error"
      ],
      "metadata": {
        "colab": {
          "base_uri": "https://localhost:8080/",
          "height": 141
        },
        "id": "TuqmlHADjAzp",
        "outputId": "e3eb25fb-c4ca-4807-dcf4-ea158ab14a60"
      },
      "execution_count": 26,
      "outputs": [
        {
          "output_type": "error",
          "ename": "TypeError",
          "evalue": "unhashable type: 'dict'",
          "traceback": [
            "\u001b[0;31m---------------------------------------------------------------------------\u001b[0m",
            "\u001b[0;31mTypeError\u001b[0m                                 Traceback (most recent call last)",
            "\u001b[0;32m<ipython-input-26-b01cd4fdbe0d>\u001b[0m in \u001b[0;36m<cell line: 1>\u001b[0;34m()\u001b[0m\n\u001b[0;32m----> 1\u001b[0;31m \u001b[0mmy_dict\u001b[0m\u001b[0;34m=\u001b[0m\u001b[0;34m{\u001b[0m\u001b[0;34m{\u001b[0m\u001b[0;34m'key'\u001b[0m\u001b[0;34m:\u001b[0m\u001b[0;34m'value'\u001b[0m\u001b[0;34m}\u001b[0m\u001b[0;34m:\u001b[0m\u001b[0;34m'dict'\u001b[0m\u001b[0;34m}\u001b[0m\u001b[0;31m#this will rase atype error\u001b[0m\u001b[0;34m\u001b[0m\u001b[0;34m\u001b[0m\u001b[0m\n\u001b[0m",
            "\u001b[0;31mTypeError\u001b[0m: unhashable type: 'dict'"
          ]
        }
      ]
    },
    {
      "cell_type": "code",
      "source": [],
      "metadata": {
        "id": "lYnyHU_ojPx9"
      },
      "execution_count": null,
      "outputs": []
    }
  ]
}